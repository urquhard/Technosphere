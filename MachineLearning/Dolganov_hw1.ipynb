{
 "cells": [
  {
   "cell_type": "markdown",
   "metadata": {},
   "source": [
    "## Общая информация\n",
    "\n",
    "**Срок сдачи:** 5 апреля 2022, 08:30 \n",
    "\n",
    "**Штраф за опоздание:** по 1 баллу за 24 часа задержки. Через 5 дней домашнее задание сгорает.\n",
    "\n",
    "При отправлении ДЗ указывайте фамилию в названии файла\n",
    "Присылать ДЗ необходимо в виде ссылки на свой github репозиторий на почту ml1.sphere@mail.ru с указанием темы в следующем формате:\n",
    "\n",
    "[ML0220, Задание 1] Фамилия Имя.\n",
    "\n",
    "Используйте данный Ipython Notebook при оформлении домашнего задания."
   ]
  },
  {
   "cell_type": "markdown",
   "metadata": {},
   "source": [
    "\n",
    "**Штрафные баллы:**\n",
    "\n",
    "1. Отсутствие фамилии в имени скрипта (скрипт должен называться по аналогии со stroykova_hw1.ipynb) -0.5 баллов\n",
    "2. Все строчки должны быть выполнены. Нужно, чтобы output команды можно было увидеть уже в git'е. В противном случае -0.5 баллов\n"
   ]
  },
  {
   "cell_type": "code",
   "execution_count": 1,
   "metadata": {
    "jupyter": {
     "outputs_hidden": true
    }
   },
   "outputs": [],
   "source": [
    "import numpy as np\n",
    "import matplotlib.pyplot as plt\n",
    "\n",
    "import seaborn as sns\n",
    "from sklearn import datasets\n",
    "from sklearn.base import BaseEstimator\n",
    "from sklearn.datasets import fetch_openml, fetch_20newsgroups\n",
    "\n",
    "from sklearn.model_selection import train_test_split\n",
    "from sklearn.neighbors import KNeighborsClassifier\n",
    "from sklearn.metrics import accuracy_score\n",
    "from sklearn.neighbors import KDTree"
   ]
  },
  {
   "cell_type": "markdown",
   "metadata": {},
   "source": [
    "### Задание 1 (1 балл)\n",
    "Реализовать KNN в классе MyKNeighborsClassifier (обязательное условие: точность не ниже sklearn реализации)\n",
    "Разберитесь самостоятельно, какая мера расстояния используется в KNeighborsClassifier дефолтно и реализуйте свой алгоритм именно с этой мерой. \n",
    "Для подсчета расстояний можно использовать функции [отсюда](https://docs.scipy.org/doc/scipy/reference/spatial.distance.html)"
   ]
  },
  {
   "cell_type": "code",
   "execution_count": 2,
   "metadata": {
    "jupyter": {
     "outputs_hidden": true
    }
   },
   "outputs": [],
   "source": [
    "class MyKNeighborsClassifier(BaseEstimator):\n",
    "    \n",
    "    def __init__(self, n_neighbors, algorithm='brute'):\n",
    "        self.n_neighbors = n_neighbors\n",
    "        self.algorithm = algorithm\n",
    "    \n",
    "    def fit(self, X, y):\n",
    "        if self.algorithm == 'brute':\n",
    "            self.X = np.asarray(X)\n",
    "            self.y = np.asarray(y)\n",
    "        elif self.algorithm == 'kd_tree':\n",
    "            self.tree = KDTree(X, leaf_size=40)  \n",
    "            self.y = y\n",
    "            \n",
    "    def predict(self, X):\n",
    "        if self.algorithm == 'brute':\n",
    "            X = np.asarray(X)\n",
    "            dis = sp.cdist(X, self.X, 'euclidean')\n",
    "            bst_ind = self.get_best_indices(dis)\n",
    "            vot = np.apply_along_axis(lambda x: np.bincount(x, minlength=4), 1, self.y.take(bst_ind))\n",
    "            return vot.argmax(axis=1)\n",
    "        elif self.algorithm == 'kd_tree':\n",
    "            bst_ind = self.tree.query(X, k=self.n_neighbors, return_distance=False) \n",
    "            vot = np.apply_along_axis(lambda x: np.bincount(x, minlength=4), 1, self.y.take(bst_ind))\n",
    "            return vot.argmax(axis=1)\n",
    "        \n",
    "    def get_best_indices(self, ranks: np.ndarray) -> np.ndarray:\n",
    "        \"\"\"\n",
    "        Returns indices of top lowest values in rows of array.\n",
    "\n",
    "        Parameters\n",
    "        ----------\n",
    "        ranks : np.ndarray, required\n",
    "        Input array.\n",
    "        top : int, required\n",
    "            Number of lowest values.\n",
    "        \"\"\"\n",
    "        ind = np.argpartition(ranks, self.n_neighbors, axis=1)[:, :self.n_neighbors] \n",
    "        res = np.take_along_axis(ind, np.argsort(np.take_along_axis(ranks, ind, axis=1), axis=1), axis=1)\n",
    "        return res\n",
    "    "
   ]
  },
  {
   "cell_type": "code",
   "execution_count": 3,
   "metadata": {},
   "outputs": [],
   "source": [
    "import scipy.spatial.distance as sp"
   ]
  },
  {
   "cell_type": "markdown",
   "metadata": {},
   "source": [
    "**IRIS**\n",
    "\n",
    "В библиотеке scikit-learn есть несколько датасетов из коробки. Один из них [Ирисы Фишера](https://ru.wikipedia.org/wiki/%D0%98%D1%80%D0%B8%D1%81%D1%8B_%D0%A4%D0%B8%D1%88%D0%B5%D1%80%D0%B0)"
   ]
  },
  {
   "cell_type": "code",
   "execution_count": 4,
   "metadata": {
    "jupyter": {
     "outputs_hidden": true
    }
   },
   "outputs": [],
   "source": [
    "iris = datasets.load_iris()"
   ]
  },
  {
   "cell_type": "code",
   "execution_count": 5,
   "metadata": {
    "jupyter": {
     "outputs_hidden": true
    }
   },
   "outputs": [],
   "source": [
    "X_train, X_test, y_train, y_test = train_test_split(iris.data, iris.target, test_size=0.1, stratify=iris.target)"
   ]
  },
  {
   "cell_type": "code",
   "execution_count": 6,
   "metadata": {
    "jupyter": {
     "outputs_hidden": true
    }
   },
   "outputs": [],
   "source": [
    "clf = KNeighborsClassifier(n_neighbors=2, algorithm='brute')\n",
    "my_clf = MyKNeighborsClassifier(n_neighbors=2, algorithm='brute')"
   ]
  },
  {
   "cell_type": "code",
   "execution_count": 7,
   "metadata": {
    "jupyter": {
     "outputs_hidden": true
    }
   },
   "outputs": [],
   "source": [
    "clf.fit(X_train, y_train)\n",
    "my_clf.fit(X_train, y_train)"
   ]
  },
  {
   "cell_type": "code",
   "execution_count": 8,
   "metadata": {
    "jupyter": {
     "outputs_hidden": true
    }
   },
   "outputs": [],
   "source": [
    "sklearn_pred = clf.predict(X_test)\n",
    "my_clf_pred = my_clf.predict(X_test)\n",
    "assert abs( accuracy_score(y_test, my_clf_pred) -  accuracy_score(y_test, sklearn_pred ) )<0.005, \"Score must be simillar\""
   ]
  },
  {
   "cell_type": "markdown",
   "metadata": {},
   "source": [
    "### Задание 2 (0.5 балла)\n",
    "\n",
    "Давайте попробуем добиться скорости работы на fit, predict сравнимой со sklearn для iris. Допускается замедление не более чем в 2 раза. \n",
    "Для этого используем numpy. "
   ]
  },
  {
   "cell_type": "code",
   "execution_count": 9,
   "metadata": {
    "jupyter": {
     "outputs_hidden": true
    }
   },
   "outputs": [
    {
     "name": "stdout",
     "output_type": "stream",
     "text": [
      "CPU times: user 521 µs, sys: 105 µs, total: 626 µs\n",
      "Wall time: 535 µs\n"
     ]
    },
    {
     "data": {
      "text/plain": [
       "KNeighborsClassifier(algorithm='brute', leaf_size=30, metric='minkowski',\n",
       "                     metric_params=None, n_jobs=None, n_neighbors=2, p=2,\n",
       "                     weights='uniform')"
      ]
     },
     "execution_count": 9,
     "metadata": {},
     "output_type": "execute_result"
    }
   ],
   "source": [
    "%time clf.fit(X_train, y_train)"
   ]
  },
  {
   "cell_type": "code",
   "execution_count": 10,
   "metadata": {
    "jupyter": {
     "outputs_hidden": true
    }
   },
   "outputs": [
    {
     "name": "stdout",
     "output_type": "stream",
     "text": [
      "CPU times: user 16 µs, sys: 1 µs, total: 17 µs\n",
      "Wall time: 24.1 µs\n"
     ]
    }
   ],
   "source": [
    "%time my_clf.fit(X_train, y_train)"
   ]
  },
  {
   "cell_type": "code",
   "execution_count": 11,
   "metadata": {
    "jupyter": {
     "outputs_hidden": true
    }
   },
   "outputs": [
    {
     "name": "stdout",
     "output_type": "stream",
     "text": [
      "CPU times: user 2.45 ms, sys: 423 µs, total: 2.87 ms\n",
      "Wall time: 2.79 ms\n"
     ]
    },
    {
     "data": {
      "text/plain": [
       "array([1, 1, 0, 2, 2, 1, 2, 1, 2, 1, 0, 0, 0, 0, 2])"
      ]
     },
     "execution_count": 11,
     "metadata": {},
     "output_type": "execute_result"
    }
   ],
   "source": [
    "%time clf.predict(X_test)"
   ]
  },
  {
   "cell_type": "code",
   "execution_count": 12,
   "metadata": {
    "jupyter": {
     "outputs_hidden": true
    }
   },
   "outputs": [
    {
     "name": "stdout",
     "output_type": "stream",
     "text": [
      "CPU times: user 972 µs, sys: 764 µs, total: 1.74 ms\n",
      "Wall time: 1.33 ms\n"
     ]
    },
    {
     "data": {
      "text/plain": [
       "array([1, 1, 0, 2, 2, 1, 2, 1, 2, 1, 0, 0, 0, 0, 2])"
      ]
     },
     "execution_count": 12,
     "metadata": {},
     "output_type": "execute_result"
    }
   ],
   "source": [
    "%time my_clf.predict(X_test)"
   ]
  },
  {
   "cell_type": "markdown",
   "metadata": {},
   "source": [
    "### Задание 3 (1 балл)\n",
    "Добавьте algorithm='kd_tree' в реализацию KNN (использовать KDTree из sklearn.neighbors). Необходимо добиться скорости работы на fit,  predict сравнимой со sklearn для iris. Допускается замедление не более чем в 2 раза. \n",
    "Для этого используем numpy. Точность не должна уступать значению KNN из sklearn. "
   ]
  },
  {
   "cell_type": "code",
   "execution_count": 13,
   "metadata": {
    "jupyter": {
     "outputs_hidden": true
    }
   },
   "outputs": [],
   "source": [
    "clf = KNeighborsClassifier(n_neighbors=2, algorithm='kd_tree')\n",
    "my_clf = MyKNeighborsClassifier(n_neighbors=2, algorithm='kd_tree')"
   ]
  },
  {
   "cell_type": "code",
   "execution_count": 14,
   "metadata": {
    "jupyter": {
     "outputs_hidden": true
    }
   },
   "outputs": [],
   "source": [
    "X_train, X_test, y_train, y_test = train_test_split(iris.data, iris.target, test_size=0.1, stratify=iris.target)"
   ]
  },
  {
   "cell_type": "code",
   "execution_count": 15,
   "metadata": {
    "jupyter": {
     "outputs_hidden": true
    }
   },
   "outputs": [
    {
     "name": "stdout",
     "output_type": "stream",
     "text": [
      "CPU times: user 960 µs, sys: 264 µs, total: 1.22 ms\n",
      "Wall time: 1.15 ms\n"
     ]
    },
    {
     "data": {
      "text/plain": [
       "KNeighborsClassifier(algorithm='kd_tree', leaf_size=30, metric='minkowski',\n",
       "                     metric_params=None, n_jobs=None, n_neighbors=2, p=2,\n",
       "                     weights='uniform')"
      ]
     },
     "execution_count": 15,
     "metadata": {},
     "output_type": "execute_result"
    }
   ],
   "source": [
    "%time clf.fit(X_train, y_train)"
   ]
  },
  {
   "cell_type": "code",
   "execution_count": 16,
   "metadata": {
    "jupyter": {
     "outputs_hidden": true
    }
   },
   "outputs": [
    {
     "name": "stdout",
     "output_type": "stream",
     "text": [
      "CPU times: user 183 µs, sys: 7 µs, total: 190 µs\n",
      "Wall time: 195 µs\n"
     ]
    }
   ],
   "source": [
    "%time my_clf.fit(X_train, y_train)"
   ]
  },
  {
   "cell_type": "code",
   "execution_count": 17,
   "metadata": {
    "jupyter": {
     "outputs_hidden": true
    }
   },
   "outputs": [
    {
     "name": "stdout",
     "output_type": "stream",
     "text": [
      "CPU times: user 2.69 ms, sys: 777 µs, total: 3.46 ms\n",
      "Wall time: 3.08 ms\n"
     ]
    },
    {
     "data": {
      "text/plain": [
       "array([2, 2, 2, 0, 0, 2, 1, 0, 2, 1, 0, 1, 1, 0, 1])"
      ]
     },
     "execution_count": 17,
     "metadata": {},
     "output_type": "execute_result"
    }
   ],
   "source": [
    "%time clf.predict(X_test)"
   ]
  },
  {
   "cell_type": "code",
   "execution_count": 18,
   "metadata": {
    "jupyter": {
     "outputs_hidden": true
    }
   },
   "outputs": [
    {
     "name": "stdout",
     "output_type": "stream",
     "text": [
      "CPU times: user 952 µs, sys: 671 µs, total: 1.62 ms\n",
      "Wall time: 2.09 ms\n"
     ]
    },
    {
     "data": {
      "text/plain": [
       "array([2, 2, 2, 0, 0, 2, 1, 0, 2, 1, 0, 1, 1, 0, 1])"
      ]
     },
     "execution_count": 18,
     "metadata": {},
     "output_type": "execute_result"
    }
   ],
   "source": [
    "%time my_clf.predict(X_test)"
   ]
  },
  {
   "cell_type": "code",
   "execution_count": 19,
   "metadata": {
    "jupyter": {
     "outputs_hidden": true
    }
   },
   "outputs": [],
   "source": [
    "sklearn_pred = clf.predict(X_test)\n",
    "my_clf_pred = my_clf.predict(X_test)\n",
    "assert abs( accuracy_score(y_test, my_clf_pred) -  accuracy_score(y_test, sklearn_pred ) )<0.005, \"Score must be simillar\""
   ]
  },
  {
   "cell_type": "markdown",
   "metadata": {},
   "source": [
    "### Задание 4 (2.5 балла)\n",
    "\n",
    "Рассмотрим новый датасет 20 newsgroups"
   ]
  },
  {
   "cell_type": "code",
   "execution_count": 20,
   "metadata": {
    "jupyter": {
     "outputs_hidden": true
    }
   },
   "outputs": [],
   "source": [
    "newsgroups = fetch_20newsgroups(subset='train',remove=['headers','footers', 'quotes'])"
   ]
  },
  {
   "cell_type": "code",
   "execution_count": 22,
   "metadata": {
    "jupyter": {
     "outputs_hidden": true
    }
   },
   "outputs": [
    {
     "data": {
      "text/plain": [
       "11314"
      ]
     },
     "execution_count": 22,
     "metadata": {},
     "output_type": "execute_result"
    }
   ],
   "source": [
    "train_data = newsgroups['data']\n",
    "train_target = newsgroups['target']\n",
    "\n",
    "len(train_target)"
   ]
  },
  {
   "cell_type": "code",
   "execution_count": 26,
   "metadata": {},
   "outputs": [
    {
     "data": {
      "text/html": [
       "<div>\n",
       "<style scoped>\n",
       "    .dataframe tbody tr th:only-of-type {\n",
       "        vertical-align: middle;\n",
       "    }\n",
       "\n",
       "    .dataframe tbody tr th {\n",
       "        vertical-align: top;\n",
       "    }\n",
       "\n",
       "    .dataframe thead th {\n",
       "        text-align: right;\n",
       "    }\n",
       "</style>\n",
       "<table border=\"1\" class=\"dataframe\">\n",
       "  <thead>\n",
       "    <tr style=\"text-align: right;\">\n",
       "      <th></th>\n",
       "      <th>0</th>\n",
       "    </tr>\n",
       "  </thead>\n",
       "  <tbody>\n",
       "    <tr>\n",
       "      <th>count</th>\n",
       "      <td>11314.000000</td>\n",
       "    </tr>\n",
       "    <tr>\n",
       "      <th>mean</th>\n",
       "      <td>9.293000</td>\n",
       "    </tr>\n",
       "    <tr>\n",
       "      <th>std</th>\n",
       "      <td>5.562719</td>\n",
       "    </tr>\n",
       "    <tr>\n",
       "      <th>min</th>\n",
       "      <td>0.000000</td>\n",
       "    </tr>\n",
       "    <tr>\n",
       "      <th>25%</th>\n",
       "      <td>5.000000</td>\n",
       "    </tr>\n",
       "    <tr>\n",
       "      <th>50%</th>\n",
       "      <td>9.000000</td>\n",
       "    </tr>\n",
       "    <tr>\n",
       "      <th>75%</th>\n",
       "      <td>14.000000</td>\n",
       "    </tr>\n",
       "    <tr>\n",
       "      <th>max</th>\n",
       "      <td>19.000000</td>\n",
       "    </tr>\n",
       "  </tbody>\n",
       "</table>\n",
       "</div>"
      ],
      "text/plain": [
       "                  0\n",
       "count  11314.000000\n",
       "mean       9.293000\n",
       "std        5.562719\n",
       "min        0.000000\n",
       "25%        5.000000\n",
       "50%        9.000000\n",
       "75%       14.000000\n",
       "max       19.000000"
      ]
     },
     "execution_count": 26,
     "metadata": {},
     "output_type": "execute_result"
    }
   ],
   "source": [
    "import pandas as pd\n",
    "df_describe = pd.DataFrame(train_target)\n",
    "df_describe.describe()"
   ]
  },
  {
   "cell_type": "markdown",
   "metadata": {},
   "source": [
    "Преобразуйте текстовые данные из data с помощью [CountVectorizer](https://scikit-learn.org/stable/modules/generated/sklearn.feature_extraction.text.CountVectorizer.html). Словарь можно ограничить по частотности."
   ]
  },
  {
   "cell_type": "code",
   "execution_count": 33,
   "metadata": {
    "jupyter": {
     "outputs_hidden": true
    }
   },
   "outputs": [],
   "source": [
    "from sklearn.feature_extraction.text import CountVectorizer\n",
    "from sklearn.feature_extraction.text import TfidfVectorizer\n",
    "\n",
    "vectorizer1 = CountVectorizer(max_df=0.5, min_df=0.01, stop_words='english')\n",
    "vectorizer2 = TfidfVectorizer(max_df=0.5, min_df=0.01, stop_words='english')\n",
    "\n",
    "X1 = vectorizer1.fit_transform(train_data)\n",
    "X2 = vectorizer2.fit_transform(train_data)\n",
    "y = train_target"
   ]
  },
  {
   "cell_type": "markdown",
   "metadata": {},
   "source": [
    "*Так мы получили векторное представление наших текстов. Значит можно приступать к задаче обучения модели*"
   ]
  },
  {
   "cell_type": "markdown",
   "metadata": {},
   "source": [
    "Реализуйте разбиение выборки для кросс-валидации на 3 фолдах. Разрешено использовать sklearn.cross_validation"
   ]
  },
  {
   "cell_type": "code",
   "execution_count": 29,
   "metadata": {
    "jupyter": {
     "outputs_hidden": true
    }
   },
   "outputs": [],
   "source": [
    "from sklearn.model_selection import KFold"
   ]
  },
  {
   "cell_type": "code",
   "execution_count": 30,
   "metadata": {
    "jupyter": {
     "outputs_hidden": true
    }
   },
   "outputs": [],
   "source": [
    "kf = KFold(n_splits=3)"
   ]
  },
  {
   "cell_type": "markdown",
   "metadata": {},
   "source": [
    "Напишите метод, позволяющий найти оптимальное количество ближайших соседей(дающее максимальную точность в среднем на валидации на 3 фолдах).\n",
    "Постройте график зависимости средней точности от количества соседей. Можно рассмотреть число соседей от 1 до 10."
   ]
  },
  {
   "cell_type": "code",
   "execution_count": 35,
   "metadata": {
    "jupyter": {
     "outputs_hidden": true
    }
   },
   "outputs": [],
   "source": [
    "def search_best_res_mink_count(grid):\n",
    "    scores = [0]*10\n",
    "    for keys, values in grid.items():\n",
    "        for value in values:\n",
    "            for train_index, test_index in kf.split(X1):\n",
    "                X_train, X_test = X1[train_index], X1[test_index]\n",
    "                y_train, y_test = y[train_index], y[test_index]\n",
    "                my_clf = KNeighborsClassifier(n_neighbors=value, algorithm='brute')\n",
    "                my_clf.fit(X_train, y_train)\n",
    "                my_clf_pred = my_clf.predict(X_test)\n",
    "                scores[value - 1] += accuracy_score(y_test, my_clf_pred) / 3\n",
    "            print(\"n_neighbors=\", value, ' score=', scores[value - 1])\n",
    "    return scores"
   ]
  },
  {
   "cell_type": "code",
   "execution_count": 36,
   "metadata": {},
   "outputs": [],
   "source": [
    "def search_best_res_mink_tf(grid):\n",
    "    scores = [0]*10\n",
    "    for keys, values in grid.items():\n",
    "        for value in values:\n",
    "            for train_index, test_index in kf.split(X2):\n",
    "                X_train, X_test = X2[train_index], X2[test_index]\n",
    "                y_train, y_test = y[train_index], y[test_index]\n",
    "                my_clf = KNeighborsClassifier(n_neighbors=value, algorithm='brute')\n",
    "                my_clf.fit(X_train, y_train)\n",
    "                my_clf_pred = my_clf.predict(X_test)\n",
    "                scores[value - 1] += accuracy_score(y_test, my_clf_pred) / 3\n",
    "            print(\"n_neighbors=\", value, ' score=', scores[value - 1])\n",
    "    return scores"
   ]
  },
  {
   "cell_type": "code",
   "execution_count": 37,
   "metadata": {},
   "outputs": [],
   "source": [
    "def search_best_res_cosine_count(grid):\n",
    "    scores = [0]*10\n",
    "    for keys, values in grid.items():\n",
    "        for value in values:\n",
    "            for train_index, test_index in kf.split(X1):\n",
    "                X_train, X_test = X1[train_index], X1[test_index]\n",
    "                y_train, y_test = y[train_index], y[test_index]\n",
    "                my_clf = KNeighborsClassifier(n_neighbors=value, algorithm='brute', metric = 'cosine')\n",
    "                my_clf.fit(X_train, y_train)\n",
    "                my_clf_pred = my_clf.predict(X_test)\n",
    "                scores[value - 1] += accuracy_score(y_test, my_clf_pred) / 3\n",
    "            print(\"n_neighbors=\", value, ' score=', scores[value - 1])\n",
    "    return scores"
   ]
  },
  {
   "cell_type": "code",
   "execution_count": 57,
   "metadata": {},
   "outputs": [],
   "source": [
    "def search_best_res_cosine_tf(grid):\n",
    "    scores = [0]*60\n",
    "    for keys, values in grid.items():\n",
    "        for value in values:\n",
    "            for train_index, test_index in kf.split(X2):\n",
    "                X_train, X_test = X2[train_index], X2[test_index]\n",
    "                y_train, y_test = y[train_index], y[test_index]\n",
    "                my_clf = KNeighborsClassifier(n_neighbors=value, algorithm='brute', metric = 'cosine')\n",
    "                my_clf.fit(X_train, y_train)\n",
    "                my_clf_pred = my_clf.predict(X_test)\n",
    "                scores[value - 1] += accuracy_score(y_test, my_clf_pred) / 3\n",
    "            print(\"n_neighbors=\", value, ' score=', scores[value - 1])\n",
    "    return scores"
   ]
  },
  {
   "cell_type": "code",
   "execution_count": 39,
   "metadata": {},
   "outputs": [
    {
     "name": "stdout",
     "output_type": "stream",
     "text": [
      "n_neighbors= 1  score= 0.25048633039683793\n",
      "n_neighbors= 2  score= 0.21981618384202933\n",
      "n_neighbors= 3  score= 0.22335252502329594\n",
      "n_neighbors= 4  score= 0.231925419371796\n",
      "n_neighbors= 5  score= 0.2367861455758205\n",
      "n_neighbors= 6  score= 0.2376701078414748\n",
      "n_neighbors= 7  score= 0.2394378214647907\n",
      "n_neighbors= 8  score= 0.23784666126554732\n",
      "n_neighbors= 9  score= 0.23634419959432548\n",
      "n_neighbors= 10  score= 0.23687472693273506\n"
     ]
    }
   ],
   "source": [
    "score_mink_count = search_best_res_mink_count({0:[i + 1 for i in range(10)]})"
   ]
  },
  {
   "cell_type": "code",
   "execution_count": 40,
   "metadata": {},
   "outputs": [
    {
     "name": "stdout",
     "output_type": "stream",
     "text": [
      "n_neighbors= 1  score= 0.19453740800076189\n",
      "n_neighbors= 2  score= 0.13372846242730355\n",
      "n_neighbors= 3  score= 0.12435857020878674\n",
      "n_neighbors= 4  score= 0.14389202485639743\n",
      "n_neighbors= 5  score= 0.1400030220771925\n",
      "n_neighbors= 6  score= 0.13425800552841405\n",
      "n_neighbors= 7  score= 0.1318713003808811\n",
      "n_neighbors= 8  score= 0.1268334583314703\n",
      "n_neighbors= 9  score= 0.12400490093932795\n",
      "n_neighbors= 10  score= 0.12161854730511609\n"
     ]
    }
   ],
   "source": [
    "score_mink_tf = search_best_res_mink_tf({0:[i + 1 for i in range(10)]})"
   ]
  },
  {
   "cell_type": "code",
   "execution_count": 49,
   "metadata": {},
   "outputs": [
    {
     "name": "stdout",
     "output_type": "stream",
     "text": [
      "n_neighbors= 1  score= 0.36158713045053037\n",
      "n_neighbors= 2  score= 0.3408163254784635\n",
      "n_neighbors= 3  score= 0.3636197679468407\n",
      "n_neighbors= 4  score= 0.3751095432679622\n",
      "n_neighbors= 5  score= 0.3889858831312881\n",
      "n_neighbors= 6  score= 0.3991505469687881\n",
      "n_neighbors= 7  score= 0.40595640728639304\n",
      "n_neighbors= 8  score= 0.4137341550683674\n",
      "n_neighbors= 9  score= 0.41567889080018405\n",
      "n_neighbors= 10  score= 0.41762381400577175\n"
     ]
    }
   ],
   "source": [
    "score_cosine_count = search_best_res_cosine_count({0:[1,2,3,4,5,6,7,8,9,10]})"
   ]
  },
  {
   "cell_type": "code",
   "execution_count": 50,
   "metadata": {},
   "outputs": [
    {
     "name": "stdout",
     "output_type": "stream",
     "text": [
      "n_neighbors= 1  score= 0.39208112196303035\n",
      "n_neighbors= 2  score= 0.369188770058639\n",
      "n_neighbors= 3  score= 0.3968531262048119\n",
      "n_neighbors= 4  score= 0.4152372260293459\n",
      "n_neighbors= 5  score= 0.4305280320625142\n",
      "n_neighbors= 6  score= 0.44060430201687095\n",
      "n_neighbors= 7  score= 0.448117360268065\n",
      "n_neighbors= 8  score= 0.4502389306346109\n",
      "n_neighbors= 9  score= 0.4545697387899824\n",
      "n_neighbors= 10  score= 0.4596074636682862\n"
     ]
    }
   ],
   "source": [
    "score_cosine_tf = search_best_res_cosine_tf({0:[i + 1 for i in range(10)]})"
   ]
  },
  {
   "cell_type": "markdown",
   "metadata": {},
   "source": [
    "Как изменится качество на валидации, если:\n",
    "\n",
    "1. Используется косинусная метрика вместо евклидовой.\n",
    "2. К текстам применяется TfIdf векторизацию( sklearn.feature_extraction.text.TfidfVectorizer)\n",
    "\n",
    "Сравните модели, выберите лучшую."
   ]
  },
  {
   "cell_type": "code",
   "execution_count": 53,
   "metadata": {},
   "outputs": [
    {
     "data": {
      "image/png": "[encoded data removed]",
      "text/plain": [
       "<Figure size 1440x720 with 1 Axes>"
      ]
     },
     "metadata": {
      "needs_background": "light"
     },
     "output_type": "display_data"
    }
   ],
   "source": [
    "x = [i + 1 for i in range(10)]\n",
    "\n",
    "fig = plt.figure(figsize= (20,10))\n",
    "\n",
    "ax1 = fig.add_subplot(111)\n",
    "ax1.plot(x, score_mink_count, label='score_mink_count') \n",
    "ax1.plot(x, score_mink_tf, label='score_mink_tf')\n",
    "ax1.plot(x, score_cosine_count, label='score_cosine_count')\n",
    "ax1.plot(x, score_cosine_tf, label='score_cosine_tf')\n",
    "\n",
    "leg = ax1.legend()"
   ]
  },
  {
   "cell_type": "markdown",
   "metadata": {},
   "source": [
    "Лучше всего себя ведет КНН с косинусной метрикой и TFIdf векторизацией. Попробуем точнее подобрать оптимальное число соседей. "
   ]
  },
  {
   "cell_type": "code",
   "execution_count": 58,
   "metadata": {},
   "outputs": [
    {
     "name": "stdout",
     "output_type": "stream",
     "text": [
      "n_neighbors= 1  score= 0.39208112196303035\n",
      "n_neighbors= 2  score= 0.369188770058639\n",
      "n_neighbors= 3  score= 0.3968531262048119\n",
      "n_neighbors= 4  score= 0.4152372260293459\n",
      "n_neighbors= 5  score= 0.4305280320625142\n",
      "n_neighbors= 6  score= 0.44060430201687095\n",
      "n_neighbors= 7  score= 0.448117360268065\n",
      "n_neighbors= 8  score= 0.4502389306346109\n",
      "n_neighbors= 9  score= 0.4545697387899824\n",
      "n_neighbors= 10  score= 0.4596074636682862\n",
      "n_neighbors= 11  score= 0.4610214377194791\n",
      "n_neighbors= 12  score= 0.46128654906624467\n",
      "n_neighbors= 13  score= 0.4654405928895511\n",
      "n_neighbors= 14  score= 0.469241225219834\n",
      "n_neighbors= 15  score= 0.4728652338233804\n",
      "n_neighbors= 16  score= 0.4762240139090541\n",
      "n_neighbors= 17  score= 0.4763124077921973\n",
      "n_neighbors= 18  score= 0.4790525244327536\n",
      "n_neighbors= 19  score= 0.4809082335574488\n",
      "n_neighbors= 20  score= 0.4824994171909136\n",
      "n_neighbors= 21  score= 0.48382511453007027\n",
      "n_neighbors= 22  score= 0.483382863903697\n",
      "n_neighbors= 23  score= 0.48258762360028573\n",
      "n_neighbors= 24  score= 0.4843554543947086\n",
      "n_neighbors= 25  score= 0.48506255859141206\n",
      "n_neighbors= 26  score= 0.4869184786241\n",
      "n_neighbors= 27  score= 0.48665343757999857\n",
      "n_neighbors= 28  score= 0.486034938174431\n",
      "n_neighbors= 29  score= 0.4883330853992709\n",
      "n_neighbors= 30  score= 0.4921333662162328\n",
      "n_neighbors= 31  score= 0.4918681611325815\n",
      "n_neighbors= 32  score= 0.4918682783036886\n",
      "n_neighbors= 33  score= 0.49248729326212703\n",
      "n_neighbors= 34  score= 0.4927525686484425\n",
      "n_neighbors= 35  score= 0.49522731616579774\n",
      "n_neighbors= 36  score= 0.49717170038429315\n",
      "n_neighbors= 37  score= 0.4977904106978533\n",
      "n_neighbors= 38  score= 0.49752527591686624\n",
      "n_neighbors= 39  score= 0.49946970700380455\n",
      "n_neighbors= 40  score= 0.5015027663161\n",
      "n_neighbors= 41  score= 0.5007071744993677\n",
      "n_neighbors= 42  score= 0.49991177015640653\n",
      "n_neighbors= 43  score= 0.499735099561227\n",
      "n_neighbors= 44  score= 0.5001772330164933\n",
      "n_neighbors= 45  score= 0.5015912773703504\n",
      "n_neighbors= 46  score= 0.5025632585716054\n",
      "n_neighbors= 47  score= 0.504242578311778\n",
      "n_neighbors= 48  score= 0.5036240086035463\n",
      "n_neighbors= 49  score= 0.5034472442714811\n",
      "n_neighbors= 50  score= 0.5046847352012657\n",
      "n_neighbors= 51  score= 0.5040658842823771\n",
      "n_neighbors= 52  score= 0.5027400697721134\n",
      "n_neighbors= 53  score= 0.5031818517140586\n",
      "n_neighbors= 54  score= 0.5030933875282511\n",
      "n_neighbors= 55  score= 0.5030935515678009\n",
      "n_neighbors= 56  score= 0.503712308749804\n",
      "n_neighbors= 57  score= 0.5031819923193871\n",
      "n_neighbors= 58  score= 0.50521484072369\n",
      "n_neighbors= 59  score= 0.503800679198726\n",
      "n_neighbors= 60  score= 0.5038891433845334\n"
     ]
    }
   ],
   "source": [
    "score_cosine_tf = search_best_res_cosine_tf({0:[i + 1 for i in range(60)]})"
   ]
  },
  {
   "cell_type": "markdown",
   "metadata": {},
   "source": [
    "Загрузим  теперь test  часть нашей выборки и преобразуем её аналогично с train частью. Не забудьте, что наборы слов в train и test части могут отличаться."
   ]
  },
  {
   "cell_type": "code",
   "execution_count": 59,
   "metadata": {
    "jupyter": {
     "outputs_hidden": true
    }
   },
   "outputs": [],
   "source": [
    "newsgroups = fetch_20newsgroups(subset='test',remove=['headers','footers', 'quotes'])"
   ]
  },
  {
   "cell_type": "markdown",
   "metadata": {},
   "source": [
    "Оценим точность вашей лучшей модели на test части датасета. Отличается ли оно от кросс-валидации? Попробуйте сделать выводы, почему отличается качество."
   ]
  },
  {
   "cell_type": "code",
   "execution_count": 60,
   "metadata": {
    "jupyter": {
     "outputs_hidden": true
    }
   },
   "outputs": [],
   "source": [
    "data = newsgroups['data']\n",
    "target = newsgroups['target']"
   ]
  },
  {
   "cell_type": "code",
   "execution_count": 63,
   "metadata": {},
   "outputs": [],
   "source": [
    "X_test = vectorizer2.transform(data)\n",
    "X_test.toarray()\n",
    "y_test = target\n",
    "X_train = X2\n",
    "y_train = y"
   ]
  },
  {
   "cell_type": "code",
   "execution_count": 65,
   "metadata": {},
   "outputs": [
    {
     "name": "stdout",
     "output_type": "stream",
     "text": [
      "0.4528677642060542\n"
     ]
    }
   ],
   "source": [
    "clf = KNeighborsClassifier(n_neighbors=40, algorithm='brute', metric = 'cosine')\n",
    "clf.fit(X_train, y_train)\n",
    "clf_pred = clf.predict(X_test)\n",
    "print(accuracy_score(y_test, clf_pred))"
   ]
  },
  {
   "cell_type": "markdown",
   "metadata": {},
   "source": [
    "Точность оказалась ниже точности на кроссвалидации, так как в моделях всегда происходит переобучение.\n",
    "Возможно это также связано с отсутствующими значениями в словарях. "
   ]
  }
 ],
 "metadata": {
  "kernelspec": {
   "display_name": "Python 3",
   "language": "python",
   "name": "python3"
  },
  "language_info": {
   "codemirror_mode": {
    "name": "ipython",
    "version": 3
   },
   "file_extension": ".py",
   "mimetype": "text/x-python",
   "name": "python",
   "nbconvert_exporter": "python",
   "pygments_lexer": "ipython3",
   "version": "3.7.6"
  },
  "widgets": {
   "application/vnd.jupyter.widget-state+json": {
    "state": {},
    "version_major": 2,
    "version_minor": 0
   }
  }
 },
 "nbformat": 4,
 "nbformat_minor": 4
}
